{
  "nbformat": 4,
  "nbformat_minor": 0,
  "metadata": {
    "colab": {
      "provenance": []
    },
    "kernelspec": {
      "name": "python3",
      "display_name": "Python 3"
    },
    "language_info": {
      "name": "python"
    }
  },
  "cells": [
    {
      "cell_type": "markdown",
      "source": [
        "**RETO 8**\n",
        "\n",
        "1. De los retos anteriores selecione 3 funciones y escribalas en forma de lambdas."
      ],
      "metadata": {
        "id": "9tRJAPWHp2Dl"
      }
    },
    {
      "cell_type": "markdown",
      "source": [
        " **Función del reto 4**\n",
        "\n",
        "\n",
        "Realice un programa que lea dos números reales y determine si el primero es múltiplo del segundo."
      ],
      "metadata": {
        "id": "s46hQtrIn91C"
      }
    },
    {
      "cell_type": "code",
      "execution_count": null,
      "metadata": {
        "colab": {
          "base_uri": "https://localhost:8080/"
        },
        "id": "epeY4dZYn3DT",
        "outputId": "a4016f6f-1f10-4e44-99f6-a712ce3c3815"
      },
      "outputs": [
        {
          "output_type": "stream",
          "name": "stdout",
          "text": [
            "Ingrese el primer número real: 12\n",
            "Ingrese el segundo número real: 6\n",
            "El primer número, 12.0 es multiplo del segundo 6.0\n"
          ]
        }
      ],
      "source": [
        "a = float\n",
        "b = float\n",
        "\n",
        "def primero_multiplo_del_segundo(a, b) -> bool:\n",
        "  primero_multiplo_del_segundo = (a % b) == 0\n",
        "  return primero_multiplo_del_segundo\n",
        "if __name__ == \"__main__\":\n",
        "    a = float(input(\"Ingrese el primer número real: \"))\n",
        "    b = float(input(\"Ingrese el segundo número real: \"))\n",
        "if (a%b) == 0:\n",
        "      print(f\"El primer número, {a} es multiplo del segundo {b}\")\n",
        "else:\n",
        "  print(f\"El primer número, {a} no es multiplo del segundo {b}\")"
      ]
    },
    {
      "cell_type": "markdown",
      "source": [
        "**Versión Lambda**"
      ],
      "metadata": {
        "id": "mKcYd55OqNoW"
      }
    },
    {
      "cell_type": "code",
      "source": [
        "if __name__ == \"__main__\":\n",
        "    a = float(input(\"Ingrese el primer número real: \"))\n",
        "    b = float(input(\"Ingrese el segundo número real: \"))\n",
        "    primero_multiplo_del_segundo = lambda a,b : (a % b) == 0\n",
        "    multiplo = primero_multiplo_del_segundo = (a , b)\n",
        "if (a % b) == 0:\n",
        "      print(f\"El primer número, {a} es multiplo del segundo {b}\")\n",
        "else:\n",
        "  print(f\"El primer número, {b} no es multiplo del segundo {b}\")"
      ],
      "metadata": {
        "colab": {
          "base_uri": "https://localhost:8080/"
        },
        "id": "eRPUn5ZJn_e5",
        "outputId": "a172a16c-a9e2-4e3f-e208-1381bbf505a8"
      },
      "execution_count": null,
      "outputs": [
        {
          "output_type": "stream",
          "name": "stdout",
          "text": [
            "Ingrese el primer número real: 12\n",
            "Ingrese el segundo número real: 6\n",
            "El primer número, 12.0 es multiplo del segundo 6.0\n"
          ]
        }
      ]
    },
    {
      "cell_type": "markdown",
      "source": [
        "**Función del reto 4**\n",
        "\n",
        "Dado el centro y el radio de un círculo, determinar si un punto de R2 pertenece o no al interior del círculo."
      ],
      "metadata": {
        "id": "_DJSFYovqS-W"
      }
    },
    {
      "cell_type": "code",
      "source": [
        "a = int(input(\"Ingrese la coordenada en x del centro del círculo: \"))\n",
        "b = int(input(\"Ingrese la coordenada en y del centro del círculo: \"))\n",
        "r = int(input(\"Ingrese el radio del círculo: \"))\n",
        "x = int(input(\"Ingrese la coordenada en x del punto a calcular: \"))\n",
        "y = int(input(\"Ingrese la coordenada en y del punto a calcular: \"))\n",
        "\n",
        "def punto_en_círculo(a, b, r, x, y):\n",
        "    distancia_cuadrada = (x - a)**2 + (y - b)**2\n",
        "    radio_cuadrado = r**2\n",
        "\n",
        "\n",
        "    if distancia_cuadrada < radio_cuadrado:\n",
        "        return \"El punto está dentro del círculo.\"\n",
        "    elif distancia_cuadrada == radio_cuadrado:\n",
        "        return \"El punto está sobre la circunferencia.\"\n",
        "    else:\n",
        "        return \"El punto está fuera del círculo.\"\n",
        "\n",
        "\n",
        "punto_segun_circulo = punto_en_círculo(a, b, r, x, y)\n",
        "print(punto_segun_circulo)\n",
        "\n",
        "\n"
      ],
      "metadata": {
        "colab": {
          "base_uri": "https://localhost:8080/"
        },
        "id": "OKv60jsKqnMY",
        "outputId": "88531bae-ac72-416c-e1c2-da67482f7416"
      },
      "execution_count": null,
      "outputs": [
        {
          "output_type": "stream",
          "name": "stdout",
          "text": [
            "Ingrese la coordenada en x del centro del círculo: 5\n",
            "Ingrese la coordenada en y del centro del círculo: 6\n",
            "Ingrese el radio del círculo: 24\n",
            "Ingrese la coordenada en x del punto a calcular: 3\n",
            "Ingrese la coordenada en y del punto a calcular: 4\n",
            "El punto está dentro del círculo.\n"
          ]
        }
      ]
    },
    {
      "cell_type": "markdown",
      "source": [
        "**Versión Lambda**"
      ],
      "metadata": {
        "id": "fyvCzLqNFV-X"
      }
    },
    {
      "cell_type": "code",
      "source": [
        "if __name__ == \"__main__\":\n",
        "    a = int(input(\"Ingrese la coordenada en x del centro del círculo: \"))\n",
        "    b = int(input(\"Ingrese la coordenada en y del centro del círculo: \"))\n",
        "    r = int(input(\"Ingrese el radio del círculo: \"))\n",
        "    x = int(input(\"Ingrese la coordenada en x del punto a calcular: \"))\n",
        "    y = int(input(\"Ingrese la coordenada en y del punto a calcular: \"))\n",
        "\n",
        "    distancia_cuadrada = lambda a, b, x, y: (x - a)**2 + (y - b)**2\n",
        "    radio_cuadrado = lambda r: r**2\n",
        "\n",
        "    distancia = distancia_cuadrada(a, b, x, y)\n",
        "    cuadrado = radio_cuadrado(r)\n",
        "\n",
        "    if distancia < cuadrado:\n",
        "        print(\"El punto está dentro del círculo.\")\n",
        "    elif distancia == cuadrado:\n",
        "        print(\"El punto está sobre la circunferencia.\")\n",
        "    else:\n",
        "        print(\"El punto está fuera del círculo.\")\n",
        "\n"
      ],
      "metadata": {
        "id": "_7ixjmxjqrq8",
        "colab": {
          "base_uri": "https://localhost:8080/"
        },
        "outputId": "a7d5a3ea-72cd-4de6-d79e-67d361e5df07"
      },
      "execution_count": null,
      "outputs": [
        {
          "output_type": "stream",
          "name": "stdout",
          "text": [
            "Ingrese la coordenada en x del centro del círculo: 12\n",
            "Ingrese la coordenada en y del centro del círculo: 67\n",
            "Ingrese el radio del círculo: 34\n",
            "Ingrese la coordenada en x del punto a calcular: 3\n",
            "Ingrese la coordenada en y del punto a calcular: 2\n",
            "El punto está fuera del círculo.\n"
          ]
        }
      ]
    },
    {
      "cell_type": "markdown",
      "source": [
        "**Función del reto 4**\n",
        "\n",
        "Dadas tres longitudes positivas, determinar si con esas longitudes se puede construir un triángulo."
      ],
      "metadata": {
        "id": "NPzFhJBZFe72"
      }
    },
    {
      "cell_type": "code",
      "source": [
        "\n",
        "\n",
        "def triángulos(x,y,z):\n",
        "  if x + y > z and x + z > y and z + y > x:\n",
        "        return (\"Los valores de los lados permiten crear un triángulo\")\n",
        "  else:\n",
        "        return (\"Los valores de los lados no permiten crear un triángulo\")\n",
        "\n",
        "if __name__ == \"__main__\":\n",
        "  x = int(input(\"Ingrese la primer longitud: \"))\n",
        "  y = int(input(\"Ingrese la segunda longitud: \"))\n",
        "  z = int(input(\"Ingrese la tercera longitud: \"))\n",
        "\n",
        "resultado = triángulos (x,y,z)\n",
        "print(resultado)\n",
        "\n",
        "\n"
      ],
      "metadata": {
        "colab": {
          "base_uri": "https://localhost:8080/"
        },
        "id": "b58VXsr9EWcD",
        "outputId": "3c44fa6c-5843-42f5-c906-15a17625c52f"
      },
      "execution_count": null,
      "outputs": [
        {
          "output_type": "stream",
          "name": "stdout",
          "text": [
            "Ingrese la primer longitud: 3\n",
            "Ingrese la segunda longitud: 4\n",
            "Ingrese la tercera longitud: 5\n",
            "Los valores de los lados permiten crear un triángulo\n"
          ]
        }
      ]
    },
    {
      "cell_type": "markdown",
      "source": [
        "**Versión Lambda**"
      ],
      "metadata": {
        "id": "iYorN9HkHQ2C"
      }
    },
    {
      "cell_type": "code",
      "source": [
        "if __name__ == \"__main__\":\n",
        "  x = int(input(\"Ingrese la primer longitud: \"))\n",
        "  y = int(input(\"Ingrese la segunda longitud: \"))\n",
        "  z = int(input(\"Ingrese la tercera longitud: \"))\n",
        "\n",
        "  triángulos = lambda x,y,z : x + y > z and x + z > y and z + y > x\n",
        "\n",
        "  resultado = triángulos(x,y,z)\n",
        "\n",
        "\n",
        "  if resultado:\n",
        "    print(\"Los valores de los lados permiten crear un triángulo\")\n",
        "  else:\n",
        "    print(\"Los valores de los lados no permiten crear un triángulo\")\n",
        "\n",
        "\n",
        "\n",
        "\n"
      ],
      "metadata": {
        "colab": {
          "base_uri": "https://localhost:8080/"
        },
        "id": "rPfj5EffF4s7",
        "outputId": "cf19faa0-fb58-4d8b-a770-24e88a38de5b"
      },
      "execution_count": null,
      "outputs": [
        {
          "output_type": "stream",
          "name": "stdout",
          "text": [
            "Ingrese la primer longitud: 56\n",
            "Ingrese la segunda longitud: 2\n",
            "Ingrese la tercera longitud: 1\n",
            "Los valores de los lados no permiten crear un triángulo\n"
          ]
        }
      ]
    },
    {
      "cell_type": "markdown",
      "source": [
        "**2. De los retos anteriores selecione 3 funciones y escribalas con argumentos no definidos (*args).**"
      ],
      "metadata": {
        "id": "kObvSAdaChw1"
      }
    },
    {
      "cell_type": "markdown",
      "source": [
        "**Función del reto 5**\n",
        "\n",
        "Haga un programa que utilice una función para calcular el valor de un préstamo C usando interés compuesto del i por n meses."
      ],
      "metadata": {
        "id": "rprCTHFZCtNh"
      }
    },
    {
      "cell_type": "code",
      "source": [
        "def préstamo(c, i, n):\n",
        "    \"\"\"\n",
        "    Calcula el valor final de un préstamo usando interés compuesto.\n",
        "\n",
        "    Args:\n",
        "    c (float): Capital inicial (préstamo).\n",
        "    i (float): Tasa de interés mensual (en forma decimal).\n",
        "    n (int): Número de meses.\n",
        "\n",
        "    Returns:\n",
        "    float: Monto total a pagar.\n",
        "    \"\"\"\n",
        "    # Fórmula del interés compuesto\n",
        "    A = c * (1 + i)**n\n",
        "    return A\n",
        "\n",
        "# Solicitar datos al usuario\n",
        "print(\"Cálculo del valor de un préstamo con interés compuesto:\")\n",
        "c = float(input(\"Ingrese el capital inicial (monto prestado): \"))\n",
        "i = float(input(\"Ingrese la tasa de interés mensual (en %): \")) / 100\n",
        "n = int(input(\"Ingrese el número de meses: \"))\n",
        "\n",
        "# Calcular el monto total\n",
        "monto_total = préstamo(c, i, n)\n",
        "\n",
        "# Mostrar el resultado\n",
        "print(f\"\\nEl monto total a pagar después de {n} meses es: {round(monto_total, 2)}\")"
      ],
      "metadata": {
        "colab": {
          "base_uri": "https://localhost:8080/"
        },
        "id": "94tiitwoFh8g",
        "outputId": "699d2ca5-0471-4838-d39f-139fe1161c82"
      },
      "execution_count": 8,
      "outputs": [
        {
          "output_type": "stream",
          "name": "stdout",
          "text": [
            "Cálculo del valor de un préstamo con interés compuesto:\n",
            "Ingrese el capital inicial (monto prestado): 2000\n",
            "Ingrese la tasa de interés mensual (en %): 5\n",
            "Ingrese el número de meses: 12\n",
            "\n",
            "El monto total a pagar después de 12 meses es: 3591.71\n"
          ]
        }
      ]
    },
    {
      "cell_type": "markdown",
      "source": [
        "**Función con argumentos no definidos (*args)**"
      ],
      "metadata": {
        "id": "6k_8JvkHGTwC"
      }
    },
    {
      "cell_type": "code",
      "source": [
        "def préstamo(*args)->float:\n",
        "\n",
        "  interes = c * (1 + i)**n\n",
        "  return interes\n",
        "\n",
        "\n",
        "c = float(input(\"Ingrese el capital inicial (monto prestado): \"))\n",
        "i = float(input(\"Ingrese la tasa de interés mensual (en %): \")) / 100\n",
        "n = int(input(\"Ingrese el número de meses: \"))\n",
        "\n",
        "# Calcular el monto total\n",
        "monto_total = préstamo(c, i, n)\n",
        "\n",
        "# Mostrar el resultado\n",
        "print(f\"\\nEl monto total a pagar después de {n} meses es: {round(monto_total, 2)}\")\n"
      ],
      "metadata": {
        "colab": {
          "base_uri": "https://localhost:8080/"
        },
        "id": "jrsCXhzxCc4w",
        "outputId": "096e21ec-8fa9-4877-eaf4-032bcc9bf834"
      },
      "execution_count": 9,
      "outputs": [
        {
          "output_type": "stream",
          "name": "stdout",
          "text": [
            "Ingrese el capital inicial (monto prestado): 2000\n",
            "Ingrese la tasa de interés mensual (en %): 5\n",
            "Ingrese el número de meses: 12\n",
            "\n",
            "El monto total a pagar después de 12 meses es: 3591.71\n"
          ]
        }
      ]
    },
    {
      "cell_type": "markdown",
      "source": [
        "**Función del reto 5**\n",
        "\n",
        "Diseñe una función que calcule la cantidad de carne de aves en kilos si se tienen N gallinas, M gallos y K pollitos cada uno pesando 6 kilos, 7 kilos y 1 kilo respectivamente."
      ],
      "metadata": {
        "id": "apSrBGjSGnjL"
      }
    },
    {
      "cell_type": "code",
      "source": [
        "def carne(N,M,K):\n",
        "    ga = 6*N\n",
        "    go = 7*M\n",
        "    p = 1*K\n",
        "    ct= ga+go+p\n",
        "    print (\"La cantidad total de carne es\", ct)"
      ],
      "metadata": {
        "id": "taMOgcdaGnN-"
      },
      "execution_count": null,
      "outputs": []
    },
    {
      "cell_type": "markdown",
      "source": [
        "**Función con argumentos no definidos (*args)**"
      ],
      "metadata": {
        "id": "ZQUeO080G5Hb"
      }
    },
    {
      "cell_type": "code",
      "source": [
        "def carne(*args) -> int:\n",
        "\n",
        "    N = int(input(\"Ingrese la cantidad de gallinas: \"))\n",
        "    M = int(input(\"Ingrese la cantidad de gallos: \"))\n",
        "    K = int(input(\"Ingrese la cantidad de pollitos: \"))\n",
        "\n",
        "\n",
        "    ga = 6 * N\n",
        "    go = 7 * M\n",
        "    p = 1 * K\n",
        "    ct = ga + go + p\n",
        "    return ct\n",
        "\n",
        "\n",
        "\n",
        "carne_total = carne()\n",
        "\n",
        "\n",
        "print(\"La cantidad de carne en kilos en total es: \" + str(carne_total) + \" Kg\")"
      ],
      "metadata": {
        "colab": {
          "base_uri": "https://localhost:8080/"
        },
        "id": "v3le2zAHG5b6",
        "outputId": "68d35059-1cbf-41bd-b1c1-046d99ce5628"
      },
      "execution_count": 19,
      "outputs": [
        {
          "output_type": "stream",
          "name": "stdout",
          "text": [
            "Ingrese la cantidad de gallinas: 2\n",
            "Ingrese la cantidad de gallos: 3\n",
            "Ingrese la cantidad de pollitos: 5\n",
            "La cantidad de carne en kilos en total es: 38 Kg\n"
          ]
        }
      ]
    },
    {
      "cell_type": "markdown",
      "source": [
        "**3. Escriba una función recursiva para calcular la operación de la potencia.**"
      ],
      "metadata": {
        "id": "mS7rHPNzNxq-"
      }
    },
    {
      "cell_type": "code",
      "source": [
        "def potencia(n,x) -> int:\n",
        "  print(n**x)\n",
        "  if x == 0:\n",
        "    return 1\n",
        "  elif x == 1:\n",
        "    return n\n",
        "  else:\n",
        "    return n**x\n",
        "\n",
        "if __name__ == \"__main__\":\n",
        "  n = int(input(\"Ingrese la base: \"))\n",
        "  x = int(input(\"Ingrese la potencia: \"))\n",
        "  operación_potencia = potencia(n,x)\n",
        "\n",
        "  print(\"La potencia de \" + str(n) + \" a la \" + str(x) + \" es \" + str(operación_potencia))\n"
      ],
      "metadata": {
        "colab": {
          "base_uri": "https://localhost:8080/"
        },
        "id": "_Es1hPA_Nx9v",
        "outputId": "a2ab104b-12b2-4415-dcbf-ea0172c5ffa8"
      },
      "execution_count": 29,
      "outputs": [
        {
          "output_type": "stream",
          "name": "stdout",
          "text": [
            "Ingrese la base: 5\n",
            "Ingrese la potencia: 3\n",
            "125\n",
            "La potencia de 5 a la 3 es 125\n"
          ]
        }
      ]
    },
    {
      "cell_type": "markdown",
      "source": [
        "**4. Realice pruebas para calcular fibonacci con iteración o con recursión. Determine desde que número de la serie la diferencia de tiempo se vuelve significativa.**"
      ],
      "metadata": {
        "id": "c1CWpBeqRg2Z"
      }
    },
    {
      "cell_type": "markdown",
      "source": [
        "**Fibonacci Recursivo**"
      ],
      "metadata": {
        "id": "aTeFZpHDSgJu"
      }
    },
    {
      "cell_type": "code",
      "source": [
        "import time\n",
        "\n",
        "def fibo(n: int) -> int:\n",
        "    i: int = 1\n",
        "    # Caso base\n",
        "    n1: int = 0\n",
        "    n2: int = 1\n",
        "    while(i <= n):\n",
        "        # Condición\n",
        "        sum_fibo = n1 + n2\n",
        "        print(sum_fibo)\n",
        "        # Actualización\n",
        "        n1 = n2\n",
        "        n2 = sum_fibo\n",
        "        i += 1\n",
        "    return sum_fibo\n",
        "\n",
        "if __name__ == \"__main__\":\n",
        "    num = int(input(\"Ingrese número: \"))\n",
        "\n",
        "    # Medir el tiempo de ejecución\n",
        "    start_time = time.time()\n",
        "    serie_fibo = fibo(num)\n",
        "    end_time = time.time()\n",
        "\n",
        "    # Calcular el tiempo transcurrido\n",
        "    timer = end_time - start_time\n",
        "\n",
        "    print(f\"La serie de Fibonacci hasta {num} es {serie_fibo}\")\n",
        "    print(f\"Tiempo de ejecución: {timer:.6f} segundos\")"
      ],
      "metadata": {
        "colab": {
          "base_uri": "https://localhost:8080/"
        },
        "id": "KwQKvhZNSPB2",
        "outputId": "500f7d37-26ae-4e74-e3c9-dbd0b8e1c4e4"
      },
      "execution_count": 41,
      "outputs": [
        {
          "output_type": "stream",
          "name": "stdout",
          "text": [
            "Ingrese número: 1\n",
            "1\n",
            "La serie de Fibonacci hasta 1 es 1\n",
            "Tiempo de ejecución: 0.000752 segundos\n"
          ]
        }
      ]
    },
    {
      "cell_type": "markdown",
      "source": [
        "**Fibonacci Iterativo**"
      ],
      "metadata": {
        "id": "_Zp99eR7SliZ"
      }
    },
    {
      "cell_type": "code",
      "source": [
        "import time\n",
        "\n",
        "def fibonacci_iterativo(n):\n",
        "    if n <= 1:  # Caso base\n",
        "        return n\n",
        "\n",
        "    a, b = 0, 1  # Inicializamos los dos primeros números de Fibonacci:\n",
        "\n",
        "    for _ in range(2, n + 1):\n",
        "        a, b = b, a + b\n",
        "\n",
        "    return b  # El valor final de b es el n-ésimo número de Fibonacci\n",
        "\n",
        "if __name__ == \"__main__\":\n",
        "    n = int(input(\"Ingrese el número de Fibonacci a calcular: \"))\n",
        "\n",
        "\n",
        "    start_time = time.time()\n",
        "    resultado = fibonacci_iterativo(n)\n",
        "    end_time = time.time()\n",
        "\n",
        "    # Calcular el tiempo transcurrido\n",
        "    timer = end_time - start_time\n",
        "\n",
        "    print(f\"El Fibonacci de {n} es {resultado}\")\n",
        "    print(f\"Tiempo de ejecución: {timer:.6f} segundos\")\n",
        "\n"
      ],
      "metadata": {
        "colab": {
          "base_uri": "https://localhost:8080/"
        },
        "id": "6QY8G_poSfzo",
        "outputId": "aaf359e6-d289-4ff1-d9eb-725b25cac94f"
      },
      "execution_count": 42,
      "outputs": [
        {
          "output_type": "stream",
          "name": "stdout",
          "text": [
            "Ingrese el número de Fibonacci a calcular: 1\n",
            "El Fibonacci de 1 es 1\n",
            "Tiempo de ejecución: 0.000002 segundos\n"
          ]
        }
      ]
    }
  ]
}